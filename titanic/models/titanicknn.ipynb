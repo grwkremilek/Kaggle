{
 "cells": [
  {
   "cell_type": "code",
   "execution_count": 1,
   "metadata": {
    "_kg_hide-input": false
   },
   "outputs": [
    {
     "name": "stdout",
     "output_type": "stream",
     "text": [
      "/kaggle/input/titaniccleaningfeatureengineering/cleaned_train.csv\n",
      "/kaggle/input/titaniccleaningfeatureengineering/cleaned_test.csv\n",
      "/kaggle/input/titaniccleaningfeatureengineering/custom.css\n",
      "/kaggle/input/titaniccleaningfeatureengineering/__notebook__.ipynb\n",
      "/kaggle/input/titaniccleaningfeatureengineering/__results__.html\n",
      "/kaggle/input/titaniccleaningfeatureengineering/__output__.json\n",
      "/kaggle/input/titaniccleaningfeatureengineering/test_withFeatures.csv\n",
      "/kaggle/input/titaniccleaningfeatureengineering/train_withFeatures.csv\n",
      "/kaggle/input/titaniccleaningfeatureengineering/__results___files/__results___21_0.png\n",
      "/kaggle/input/titaniccleaningfeatureengineering/__results___files/__results___14_3.png\n",
      "/kaggle/input/titaniccleaningfeatureengineering/__results___files/__results___16_1.png\n",
      "/kaggle/input/titanic/train.csv\n",
      "/kaggle/input/titanic/gender_submission.csv\n",
      "/kaggle/input/titanic/test.csv\n",
      "/kaggle/input/titanicknn/custom.css\n",
      "/kaggle/input/titanicknn/__notebook__.ipynb\n",
      "/kaggle/input/titanicknn/__results__.html\n",
      "/kaggle/input/titanicknn/__output__.json\n",
      "/kaggle/input/titanicknn/submission.csv\n",
      "/kaggle/input/titanicknn/__results___files/__results___2_2.png\n"
     ]
    }
   ],
   "source": [
    "#https://www.kaggle.com/utkukubilay/titanic-eda-knn-model\n",
    "\n",
    "import pandas as pd\n",
    "\n",
    "from sklearn.neighbors import KNeighborsClassifier\n",
    "from sklearn.metrics import accuracy_score\n",
    "from sklearn.model_selection import train_test_split\n",
    "from sklearn import metrics\n",
    "\n",
    "import matplotlib.pyplot as plt\n",
    "\n",
    "import warnings\n",
    "warnings.filterwarnings('ignore')\n",
    "\n",
    "import os\n",
    "for dirname, _, filenames in os.walk('/kaggle/input'):\n",
    "    for filename in filenames:\n",
    "        print(os.path.join(dirname, filename))"
   ]
  },
  {
   "cell_type": "code",
   "execution_count": 2,
   "metadata": {},
   "outputs": [],
   "source": [
    "# cleaned dataset\n",
    "train = pd.read_csv('../input/titaniccleaningfeatureengineering/cleaned_train.csv')\n",
    "test = pd.read_csv('../input/titaniccleaningfeatureengineering/cleaned_test.csv')\n",
    "submission = pd.read_csv('../input/titanic/gender_submission.csv')\n",
    "\n",
    "X = train[train.columns[1:]]\n",
    "y = train['Survived']\n",
    "\n",
    "X_train, X_test, y_train, y_test = train_test_split(X, y, test_size=0.2, random_state=0)"
   ]
  },
  {
   "cell_type": "code",
   "execution_count": 3,
   "metadata": {},
   "outputs": [
    {
     "name": "stdout",
     "output_type": "stream",
     "text": [
      "1 test accuracy:       0.66\n",
      "2 test accuracy:       0.66\n",
      "3 test accuracy:       0.70\n",
      "4 test accuracy:       0.69\n",
      "5 test accuracy:       0.73\n",
      "6 test accuracy:       0.71\n",
      "7 test accuracy:       0.73\n",
      "8 test accuracy:       0.69\n",
      "9 test accuracy:       0.73\n",
      "10 test accuracy:       0.73\n",
      "11 test accuracy:       0.73\n",
      "12 test accuracy:       0.71\n",
      "13 test accuracy:       0.73\n",
      "14 test accuracy:       0.72\n",
      "15 test accuracy:       0.73\n",
      "16 test accuracy:       0.73\n",
      "17 test accuracy:       0.75\n",
      "18 test accuracy:       0.75\n",
      "19 test accuracy:       0.76\n",
      "20 test accuracy:       0.75\n",
      "21 test accuracy:       0.77\n",
      "22 test accuracy:       0.76\n",
      "23 test accuracy:       0.75\n",
      "24 test accuracy:       0.76\n",
      "25 test accuracy:       0.76\n",
      "26 test accuracy:       0.77\n",
      "27 test accuracy:       0.77\n",
      "28 test accuracy:       0.75\n",
      "29 test accuracy:       0.77\n",
      "30 test accuracy:       0.76\n",
      "31 test accuracy:       0.74\n",
      "32 test accuracy:       0.76\n",
      "33 test accuracy:       0.75\n",
      "34 test accuracy:       0.75\n",
      "35 test accuracy:       0.75\n",
      "36 test accuracy:       0.74\n",
      "37 test accuracy:       0.74\n",
      "38 test accuracy:       0.75\n",
      "39 test accuracy:       0.75\n"
     ]
    },
    {
     "data": {
      "text/plain": [
       "<matplotlib.legend.Legend at 0x7f25e264f080>"
      ]
     },
     "execution_count": 3,
     "metadata": {},
     "output_type": "execute_result"
    },
    {
     "data": {
      "image/png": "[encoded data removed]",
      "text/plain": [
       "<Figure size 432x288 with 1 Axes>"
      ]
     },
     "metadata": {
      "needs_background": "light"
     },
     "output_type": "display_data"
    }
   ],
   "source": [
    "training_accuracies = [] \n",
    "test_accuracies = []  \n",
    "neighbors_settings = range(1, 40)\n",
    "\n",
    "for n_neighbors in neighbors_settings: \n",
    "    clf = KNeighborsClassifier(n_neighbors=n_neighbors) \n",
    "    clf.fit(X_train, y_train) \n",
    "    # record training set accuracy \n",
    "    training_accuracies.append(clf.score(X_train, y_train)) \n",
    "    # record generalization accuracy\n",
    "    test_accuracy = clf.score(X_test, y_test)\n",
    "    test_accuracies.append(test_accuracy)\n",
    "    print(\"{} test accuracy: {:10.2f}\".format(n_neighbors,test_accuracy))\n",
    "\n",
    "# check the accuracy difference between train and test data     \n",
    "plt.plot(neighbors_settings, training_accuracies, label=\"training accuracy\")\n",
    "plt.plot(neighbors_settings, test_accuracies, label=\"test accuracy\")\n",
    "plt.xlabel(\"n_neighbors\")\n",
    "plt.ylabel(\"accuracy\")\n",
    "plt.legend()"
   ]
  },
  {
   "cell_type": "code",
   "execution_count": 4,
   "metadata": {},
   "outputs": [
    {
     "data": {
      "text/html": [
       "<div>\n",
       "<style scoped>\n",
       "    .dataframe tbody tr th:only-of-type {\n",
       "        vertical-align: middle;\n",
       "    }\n",
       "\n",
       "    .dataframe tbody tr th {\n",
       "        vertical-align: top;\n",
       "    }\n",
       "\n",
       "    .dataframe thead th {\n",
       "        text-align: right;\n",
       "    }\n",
       "</style>\n",
       "<table border=\"1\" class=\"dataframe\">\n",
       "  <thead>\n",
       "    <tr style=\"text-align: right;\">\n",
       "      <th></th>\n",
       "      <th>PassengerId</th>\n",
       "      <th>Survived</th>\n",
       "    </tr>\n",
       "  </thead>\n",
       "  <tbody>\n",
       "    <tr>\n",
       "      <th>0</th>\n",
       "      <td>892</td>\n",
       "      <td>0</td>\n",
       "    </tr>\n",
       "    <tr>\n",
       "      <th>1</th>\n",
       "      <td>893</td>\n",
       "      <td>0</td>\n",
       "    </tr>\n",
       "    <tr>\n",
       "      <th>2</th>\n",
       "      <td>894</td>\n",
       "      <td>0</td>\n",
       "    </tr>\n",
       "    <tr>\n",
       "      <th>3</th>\n",
       "      <td>895</td>\n",
       "      <td>0</td>\n",
       "    </tr>\n",
       "    <tr>\n",
       "      <th>4</th>\n",
       "      <td>896</td>\n",
       "      <td>0</td>\n",
       "    </tr>\n",
       "  </tbody>\n",
       "</table>\n",
       "</div>"
      ],
      "text/plain": [
       "   PassengerId  Survived\n",
       "0          892         0\n",
       "1          893         0\n",
       "2          894         0\n",
       "3          895         0\n",
       "4          896         0"
      ]
     },
     "execution_count": 4,
     "metadata": {},
     "output_type": "execute_result"
    }
   ],
   "source": [
    "# predict for submission\n",
    "logreg = KNeighborsClassifier(n_neighbors = 26, metric = 'minkowski', p = 2)\n",
    "logreg.fit(X_train, y_train)\n",
    "    \n",
    "submission['Survived'] = logreg.predict(test)\n",
    "submission.to_csv(\"submission.csv\", index = False)\n",
    "submission.head()"
   ]
  }
 ],
 "metadata": {
  "kernelspec": {
   "display_name": "Python 3",
   "language": "python",
   "name": "python3"
  },
  "language_info": {
   "codemirror_mode": {
    "name": "ipython",
    "version": 3
   },
   "file_extension": ".py",
   "mimetype": "text/x-python",
   "name": "python",
   "nbconvert_exporter": "python",
   "pygments_lexer": "ipython3",
   "version": "3.6.6"
  }
 },
 "nbformat": 4,
 "nbformat_minor": 1
}
