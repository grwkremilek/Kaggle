{
 "cells": [
  {
   "cell_type": "code",
   "execution_count": 1,
   "metadata": {
    "_cell_guid": "b1076dfc-b9ad-4769-8c92-a6c4dae69d19",
    "_uuid": "8f2839f25d086af736a60e9eeb907d3b93b6e0e5"
   },
   "outputs": [
    {
     "name": "stdout",
     "output_type": "stream",
     "text": [
      "/kaggle/input/titanic/train.csv\n",
      "/kaggle/input/titanic/gender_submission.csv\n",
      "/kaggle/input/titanic/test.csv\n",
      "/kaggle/input/titaniccleaningfeatureengineering/custom.css\n",
      "/kaggle/input/titaniccleaningfeatureengineering/__notebook__.ipynb\n",
      "/kaggle/input/titaniccleaningfeatureengineering/testC.csv\n",
      "/kaggle/input/titaniccleaningfeatureengineering/__results__.html\n",
      "/kaggle/input/titaniccleaningfeatureengineering/__output__.json\n",
      "/kaggle/input/titaniccleaningfeatureengineering/trainC.csv\n",
      "/kaggle/input/titaniccleaningfeatureengineering/__results___files/__results___13_0.png\n"
     ]
    }
   ],
   "source": [
    "import numpy as np\n",
    "import pandas as pd\n",
    "import matplotlib.pyplot as plt\n",
    "\n",
    "from sklearn.model_selection import train_test_split\n",
    "from sklearn.preprocessing import MinMaxScaler\n",
    "from sklearn.neural_network import MLPClassifier\n",
    "from sklearn.model_selection import GridSearchCV\n",
    "\n",
    "import os\n",
    "for dirname, _, filenames in os.walk('/kaggle/input'):\n",
    "    for filename in filenames:\n",
    "        print(os.path.join(dirname, filename))\n",
    "\n",
    "# Any results you write to the current directory are saved as output."
   ]
  },
  {
   "cell_type": "code",
   "execution_count": 2,
   "metadata": {
    "_cell_guid": "79c7e3d0-c299-4dcb-8224-4455121ee9b0",
    "_uuid": "d629ff2d2480ee46fbb7e2d37f6b5fab8052498a"
   },
   "outputs": [],
   "source": [
    "train = pd.read_csv('../input/titaniccleaningfeatureengineering/trainC.csv')\n",
    "test = pd.read_csv('../input/titaniccleaningfeatureengineering/testC.csv')\n",
    "submission = pd.read_csv('../input/titanic/gender_submission.csv')"
   ]
  },
  {
   "cell_type": "code",
   "execution_count": 3,
   "metadata": {},
   "outputs": [],
   "source": [
    "sc = MinMaxScaler()\n",
    "X = sc.fit_transform(train[train.columns[1:]])\n",
    "test = sc.fit_transform(test)\n",
    "y = train['Survived']\n",
    "\n",
    "X_train, X_test, y_train, y_test = train_test_split(X, y, test_size=0.2, random_state=0)"
   ]
  },
  {
   "cell_type": "code",
   "execution_count": 4,
   "metadata": {},
   "outputs": [
    {
     "name": "stdout",
     "output_type": "stream",
     "text": [
      "training accuracy 0.9508426966292135\n",
      "test accuracy 0.9329608938547486\n"
     ]
    },
    {
     "name": "stderr",
     "output_type": "stream",
     "text": [
      "/opt/conda/lib/python3.6/site-packages/sklearn/neural_network/_multilayer_perceptron.py:571: ConvergenceWarning: Stochastic Optimizer: Maximum iterations (200) reached and the optimization hasn't converged yet.\n",
      "  % self.max_iter, ConvergenceWarning)\n"
     ]
    }
   ],
   "source": [
    "# baseline MLP\n",
    "mlp = MLPClassifier()\n",
    "mlp.fit(X_train,y_train)\n",
    "print(\"training accuracy\",mlp.score(X_train, y_train))\n",
    "print(\"test accuracy\", mlp.score(X_test, y_test))"
   ]
  },
  {
   "cell_type": "code",
   "execution_count": 5,
   "metadata": {},
   "outputs": [
    {
     "data": {
      "text/html": [
       "<div>\n",
       "<style scoped>\n",
       "    .dataframe tbody tr th:only-of-type {\n",
       "        vertical-align: middle;\n",
       "    }\n",
       "\n",
       "    .dataframe tbody tr th {\n",
       "        vertical-align: top;\n",
       "    }\n",
       "\n",
       "    .dataframe thead th {\n",
       "        text-align: right;\n",
       "    }\n",
       "</style>\n",
       "<table border=\"1\" class=\"dataframe\">\n",
       "  <thead>\n",
       "    <tr style=\"text-align: right;\">\n",
       "      <th></th>\n",
       "      <th>PassengerId</th>\n",
       "      <th>Survived</th>\n",
       "    </tr>\n",
       "  </thead>\n",
       "  <tbody>\n",
       "    <tr>\n",
       "      <th>0</th>\n",
       "      <td>892</td>\n",
       "      <td>0</td>\n",
       "    </tr>\n",
       "    <tr>\n",
       "      <th>1</th>\n",
       "      <td>893</td>\n",
       "      <td>0</td>\n",
       "    </tr>\n",
       "    <tr>\n",
       "      <th>2</th>\n",
       "      <td>894</td>\n",
       "      <td>0</td>\n",
       "    </tr>\n",
       "    <tr>\n",
       "      <th>3</th>\n",
       "      <td>895</td>\n",
       "      <td>0</td>\n",
       "    </tr>\n",
       "    <tr>\n",
       "      <th>4</th>\n",
       "      <td>896</td>\n",
       "      <td>1</td>\n",
       "    </tr>\n",
       "  </tbody>\n",
       "</table>\n",
       "</div>"
      ],
      "text/plain": [
       "   PassengerId  Survived\n",
       "0          892         0\n",
       "1          893         0\n",
       "2          894         0\n",
       "3          895         0\n",
       "4          896         1"
      ]
     },
     "execution_count": 5,
     "metadata": {},
     "output_type": "execute_result"
    }
   ],
   "source": [
    "submission['Survived'] = mlp.predict(test)\n",
    "submission.to_csv(\"submission.csv\", index = False)\n",
    "submission.head()"
   ]
  },
  {
   "cell_type": "code",
   "execution_count": 6,
   "metadata": {},
   "outputs": [
    {
     "data": {
      "text/plain": [
       "GridSearchCV(cv=None, error_score=nan,\n",
       "             estimator=MLPClassifier(activation='relu', alpha=0.0001,\n",
       "                                     batch_size='auto', beta_1=0.9,\n",
       "                                     beta_2=0.999, early_stopping=False,\n",
       "                                     epsilon=1e-08, hidden_layer_sizes=(100,),\n",
       "                                     learning_rate='constant',\n",
       "                                     learning_rate_init=0.001, max_fun=15000,\n",
       "                                     max_iter=200, momentum=0.9,\n",
       "                                     n_iter_no_change=10,\n",
       "                                     nesterovs_momentum=True, power_t=0.5,\n",
       "                                     random_st...\n",
       "                         'alpha': [0.0001, 0.05, 0.1, 0.2],\n",
       "                         'early_stopping': [True],\n",
       "                         'hidden_layer_sizes': [2, 3, 4, 5, 6, 7, 8, 9, 10, 11,\n",
       "                                                12, 13, 14, 15, 16, 17, 18,\n",
       "                                                19],\n",
       "                         'learning_rate': ['constant', 'adaptive'],\n",
       "                         'learning_rate_init': [0.01], 'max_iter': [1000],\n",
       "                         'power_t': [0.5], 'solver': ['l-bfgs', 'adam', 'sgd'],\n",
       "                         'warm_start': [False]},\n",
       "             pre_dispatch='2*n_jobs', refit=True, return_train_score=False,\n",
       "             scoring=None, verbose=0)"
      ]
     },
     "execution_count": 6,
     "metadata": {},
     "output_type": "execute_result"
    }
   ],
   "source": [
    "#relu cuts off values below zero\n",
    "#tanh saturates to -1 for low input values and +1 for high input values\n",
    "#alpha: regularization parameter (l2)\n",
    "\n",
    "parameters = {'hidden_layer_sizes': [i for i in range(2,20)],\n",
    "              'activation': ['tanh', 'relu'],\n",
    "              'solver': ['l-bfgs', 'adam', 'sgd'],\n",
    "              'learning_rate': ['constant','adaptive'],\n",
    "              'learning_rate_init': [0.01],\n",
    "              'power_t': [0.5],\n",
    "              'alpha': [0.0001, 0.05, 0.1, 0.2],\n",
    "              'max_iter': [1000],\n",
    "              'early_stopping': [True],\n",
    "              'warm_start': [False]}\n",
    "\n",
    "grid = GridSearchCV(MLPClassifier(), parameters, n_jobs=-1)\n",
    "grid.fit(X_train, y_train)"
   ]
  },
  {
   "cell_type": "code",
   "execution_count": 7,
   "metadata": {},
   "outputs": [
    {
     "name": "stdout",
     "output_type": "stream",
     "text": [
      "0.9325519550871663\n",
      "{'activation': 'relu', 'alpha': 0.2, 'early_stopping': True, 'hidden_layer_sizes': 7, 'learning_rate': 'adaptive', 'learning_rate_init': 0.01, 'max_iter': 1000, 'power_t': 0.5, 'solver': 'adam', 'warm_start': False}\n",
      "MLPClassifier(activation='relu', alpha=0.2, batch_size='auto', beta_1=0.9,\n",
      "              beta_2=0.999, early_stopping=True, epsilon=1e-08,\n",
      "              hidden_layer_sizes=7, learning_rate='adaptive',\n",
      "              learning_rate_init=0.01, max_fun=15000, max_iter=1000,\n",
      "              momentum=0.9, n_iter_no_change=10, nesterovs_momentum=True,\n",
      "              power_t=0.5, random_state=None, shuffle=True, solver='adam',\n",
      "              tol=0.0001, validation_fraction=0.1, verbose=False,\n",
      "              warm_start=False)\n"
     ]
    }
   ],
   "source": [
    "print (grid.best_score_)\n",
    "print (grid.best_params_)\n",
    "print(grid.best_estimator_)"
   ]
  },
  {
   "cell_type": "code",
   "execution_count": 8,
   "metadata": {},
   "outputs": [
    {
     "data": {
      "text/html": [
       "<div>\n",
       "<style scoped>\n",
       "    .dataframe tbody tr th:only-of-type {\n",
       "        vertical-align: middle;\n",
       "    }\n",
       "\n",
       "    .dataframe tbody tr th {\n",
       "        vertical-align: top;\n",
       "    }\n",
       "\n",
       "    .dataframe thead th {\n",
       "        text-align: right;\n",
       "    }\n",
       "</style>\n",
       "<table border=\"1\" class=\"dataframe\">\n",
       "  <thead>\n",
       "    <tr style=\"text-align: right;\">\n",
       "      <th></th>\n",
       "      <th>PassengerId</th>\n",
       "      <th>Survived</th>\n",
       "    </tr>\n",
       "  </thead>\n",
       "  <tbody>\n",
       "    <tr>\n",
       "      <th>0</th>\n",
       "      <td>892</td>\n",
       "      <td>0</td>\n",
       "    </tr>\n",
       "    <tr>\n",
       "      <th>1</th>\n",
       "      <td>893</td>\n",
       "      <td>1</td>\n",
       "    </tr>\n",
       "    <tr>\n",
       "      <th>2</th>\n",
       "      <td>894</td>\n",
       "      <td>0</td>\n",
       "    </tr>\n",
       "    <tr>\n",
       "      <th>3</th>\n",
       "      <td>895</td>\n",
       "      <td>0</td>\n",
       "    </tr>\n",
       "    <tr>\n",
       "      <th>4</th>\n",
       "      <td>896</td>\n",
       "      <td>1</td>\n",
       "    </tr>\n",
       "  </tbody>\n",
       "</table>\n",
       "</div>"
      ],
      "text/plain": [
       "   PassengerId  Survived\n",
       "0          892         0\n",
       "1          893         1\n",
       "2          894         0\n",
       "3          895         0\n",
       "4          896         1"
      ]
     },
     "execution_count": 8,
     "metadata": {},
     "output_type": "execute_result"
    }
   ],
   "source": [
    "submission['Survived'] = grid.predict(test)\n",
    "submission.to_csv(\"submission_GridSearchCV.csv\", index = False)\n",
    "submission.head()"
   ]
  },
  {
   "cell_type": "code",
   "execution_count": 9,
   "metadata": {},
   "outputs": [
    {
     "data": {
      "text/plain": [
       "<matplotlib.colorbar.Colorbar at 0x7fa15542c588>"
      ]
     },
     "execution_count": 9,
     "metadata": {},
     "output_type": "execute_result"
    },
    {
     "data": {
      "image/png": "[encoded data removed]",
      "text/plain": [
       "<Figure size 1440x360 with 2 Axes>"
      ]
     },
     "metadata": {
      "needs_background": "light"
     },
     "output_type": "display_data"
    }
   ],
   "source": [
    "# visualize the weights that were learned connecting the input to the first hidden layer\n",
    "#the rows correspond to the input features, the columns correspond to the hidden units\n",
    "\n",
    "plt.figure(figsize=(20, 5)) \n",
    "plt.imshow(mlp.coefs_[0], interpolation='none', cmap='cividis') \n",
    "plt.yticks(range(len(train.columns[1:])), list(train.columns[1:])) \n",
    "plt.colorbar()"
   ]
  },
  {
   "cell_type": "code",
   "execution_count": 10,
   "metadata": {},
   "outputs": [
    {
     "data": {
      "text/plain": [
       "[array([[ 0.12851108, -0.25876412, -0.06369428, ..., -0.21060124,\n",
       "         -0.20435515,  0.09411594],\n",
       "        [-0.06387471, -0.24750165,  0.13245251, ..., -0.17719913,\n",
       "          0.15309331,  0.44012306],\n",
       "        [ 0.0976294 , -0.23585084,  0.02848739, ..., -0.15825075,\n",
       "         -0.18298619, -0.14638894],\n",
       "        ...,\n",
       "        [-0.12627653,  0.11632891,  0.13676445, ..., -0.10992208,\n",
       "         -0.06378731, -0.32683406],\n",
       "        [ 0.07282921,  0.14606542,  0.09572838, ...,  0.16900289,\n",
       "          0.19120327,  0.1918052 ],\n",
       "        [ 0.12611522,  0.03008897, -0.10338923, ..., -0.22975544,\n",
       "         -0.01766487,  0.02990756]]),\n",
       " array([[-1.83883835e-01],\n",
       "        [ 1.60510576e-01],\n",
       "        [ 1.70196687e-01],\n",
       "        [-3.22640542e-01],\n",
       "        [ 2.07306554e-01],\n",
       "        [-3.92113236e-01],\n",
       "        [-3.79143983e-01],\n",
       "        [-6.62981373e-01],\n",
       "        [-3.09123280e-01],\n",
       "        [-1.28895395e-01],\n",
       "        [ 1.51638868e-01],\n",
       "        [ 2.56883775e-01],\n",
       "        [-2.91576174e-01],\n",
       "        [ 3.71456129e-01],\n",
       "        [ 3.43233805e-01],\n",
       "        [-1.38467738e-01],\n",
       "        [ 3.48131214e-01],\n",
       "        [ 1.41057824e-03],\n",
       "        [ 4.29517986e-01],\n",
       "        [-3.94939063e-01],\n",
       "        [-4.12994451e-01],\n",
       "        [-1.57235986e-06],\n",
       "        [-1.34334293e-01],\n",
       "        [ 5.31981750e-01],\n",
       "        [-2.07075810e-01],\n",
       "        [ 6.28283473e-01],\n",
       "        [-1.04160333e-03],\n",
       "        [-2.37712476e-02],\n",
       "        [-4.82355280e-01],\n",
       "        [ 1.56854438e-01],\n",
       "        [ 5.41089715e-01],\n",
       "        [-5.38469531e-01],\n",
       "        [-3.13761090e-01],\n",
       "        [ 1.48950806e-01],\n",
       "        [ 3.97614636e-01],\n",
       "        [ 4.47221096e-01],\n",
       "        [ 3.66088524e-01],\n",
       "        [-2.27364340e-01],\n",
       "        [-3.65942888e-01],\n",
       "        [ 3.06361984e-01],\n",
       "        [-5.31877076e-01],\n",
       "        [ 7.08925967e-16],\n",
       "        [-6.24508031e-04],\n",
       "        [-2.14562828e-01],\n",
       "        [ 4.93116695e-01],\n",
       "        [-4.84622509e-01],\n",
       "        [ 2.75286292e-01],\n",
       "        [ 3.71305047e-01],\n",
       "        [-2.24708630e-01],\n",
       "        [ 4.34483506e-01],\n",
       "        [ 4.19926912e-01],\n",
       "        [-5.23787888e-01],\n",
       "        [-5.29095809e-01],\n",
       "        [ 2.57779510e-01],\n",
       "        [-1.07915752e-01],\n",
       "        [ 3.81612405e-06],\n",
       "        [ 5.33208308e-01],\n",
       "        [ 4.22833855e-01],\n",
       "        [ 7.57927379e-03],\n",
       "        [-7.90618113e-02],\n",
       "        [-9.31233911e-02],\n",
       "        [-3.45626492e-01],\n",
       "        [ 3.26093731e-01],\n",
       "        [-9.82077153e-02],\n",
       "        [ 1.49686507e-01],\n",
       "        [ 1.77016269e-01],\n",
       "        [ 3.66187474e-01],\n",
       "        [-2.89548656e-01],\n",
       "        [-3.23232903e-01],\n",
       "        [-2.92117441e-01],\n",
       "        [-3.74414697e-01],\n",
       "        [-4.31498287e-01],\n",
       "        [ 2.28480310e-01],\n",
       "        [-4.38926430e-01],\n",
       "        [ 3.41877025e-01],\n",
       "        [ 4.05846551e-01],\n",
       "        [ 1.98457774e-01],\n",
       "        [-1.64598257e-01],\n",
       "        [-7.91887488e-04],\n",
       "        [ 4.02520282e-01],\n",
       "        [-3.46948889e-01],\n",
       "        [ 1.11887383e-01],\n",
       "        [ 5.10500793e-01],\n",
       "        [-1.50629999e-01],\n",
       "        [-4.54682891e-01],\n",
       "        [ 3.67252097e-01],\n",
       "        [-2.92785652e-01],\n",
       "        [ 1.07939684e-03],\n",
       "        [ 1.18913849e-02],\n",
       "        [ 2.91830090e-02],\n",
       "        [-2.03240759e-01],\n",
       "        [ 3.66728606e-01],\n",
       "        [ 8.17019938e-02],\n",
       "        [ 9.24472929e-01],\n",
       "        [-2.10073360e-01],\n",
       "        [-1.44154993e-04],\n",
       "        [ 1.78479763e-01],\n",
       "        [ 3.29310906e-01],\n",
       "        [ 3.47563049e-01],\n",
       "        [ 3.74129191e-01]])]"
      ]
     },
     "execution_count": 10,
     "metadata": {},
     "output_type": "execute_result"
    }
   ],
   "source": [
    "mlp.coefs_"
   ]
  }
 ],
 "metadata": {
  "kernelspec": {
   "display_name": "Python 3",
   "language": "python",
   "name": "python3"
  },
  "language_info": {
   "codemirror_mode": {
    "name": "ipython",
    "version": 3
   },
   "file_extension": ".py",
   "mimetype": "text/x-python",
   "name": "python",
   "nbconvert_exporter": "python",
   "pygments_lexer": "ipython3",
   "version": "3.6.6"
  }
 },
 "nbformat": 4,
 "nbformat_minor": 4
}
